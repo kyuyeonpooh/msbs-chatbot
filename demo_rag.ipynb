{
    "cells": [
        {
            "cell_type": "markdown",
            "metadata": {},
            "source": [
                "### pymupdf4llm + OCR (py-zerox) 사용\n",
                "\n",
                "정성적인 결과가 가장 좋음."
            ]
        },
        {
            "cell_type": "code",
            "execution_count": 1,
            "metadata": {},
            "outputs": [
                {
                    "data": {
                        "text/plain": [
                            "True"
                        ]
                    },
                    "execution_count": 1,
                    "metadata": {},
                    "output_type": "execute_result"
                }
            ],
            "source": [
                "from dotenv import load_dotenv\n",
                "\n",
                "load_dotenv()"
            ]
        },
        {
            "cell_type": "code",
            "execution_count": 2,
            "metadata": {},
            "outputs": [
                {
                    "name": "stderr",
                    "output_type": "stream",
                    "text": [
                        "/Users/kyuyeon/opt/miniconda3/envs/msbs/lib/python3.11/site-packages/pydantic/_internal/_config.py:345: UserWarning: Valid config keys have changed in V2:\n",
                        "* 'fields' has been removed\n",
                        "  warnings.warn(message, UserWarning)\n"
                    ]
                }
            ],
            "source": [
                "import asyncio\n",
                "import textwrap\n",
                "from copy import deepcopy\n",
                "from pathlib import Path\n",
                "\n",
                "import pymupdf4llm\n",
                "from langchain_community.vectorstores import FAISS\n",
                "from langchain_core.documents import Document\n",
                "from langchain_core.output_parsers import StrOutputParser\n",
                "from langchain_core.prompts import PromptTemplate\n",
                "from langchain_core.runnables import RunnablePassthrough\n",
                "from langchain_openai import ChatOpenAI, OpenAIEmbeddings\n",
                "from langchain_text_splitters.markdown import MarkdownHeaderTextSplitter\n",
                "from pyzerox import zerox\n",
                "from pyzerox.core.types import ZeroxOutput"
            ]
        },
        {
            "cell_type": "code",
            "execution_count": 3,
            "metadata": {},
            "outputs": [],
            "source": [
                "DATASET_DIR = \"dataset\"\n",
                "MODEL_NAME = \"gpt-4o\"\n",
                "OCR_CUSTOM_SYS_PROMPT = \"\"\"\n",
                "    The provided image document is a manual for specific equipment, primarily written in Korean.\n",
                "    Convert the content of the PDF page into Markdown format.\n",
                "    Ensure all text, tables, and formatting are fully and accurately represented.\n",
                "    Format tables clearly and correctly for Markdown, ensuring proper alignment.\n",
                "    Do not use code blocks in the Markdown output.\n",
                "    Provide only the converted Markdown content without any explanations or additional comments.\n",
                "\"\"\"\n",
                "EMBEDDING_MODEL = \"text-embedding-3-large\""
            ]
        },
        {
            "cell_type": "code",
            "execution_count": 4,
            "metadata": {},
            "outputs": [],
            "source": [
                "def strip_prompt(prompt: str) -> str:\n",
                "    return textwrap.dedent(prompt).strip()\n",
                "\n",
                "\n",
                "async def zerox_parse(file_name: str) -> ZeroxOutput:\n",
                "    print(f\"Processing {file_name} with zerox...\")\n",
                "    zerox_output = await zerox(\n",
                "        file_path=file_name,\n",
                "        model=MODEL_NAME,\n",
                "        custom_system_prompt=strip_prompt(OCR_CUSTOM_SYS_PROMPT),\n",
                "    )\n",
                "    zerox_output.file_name = file_name\n",
                "    return zerox_output"
            ]
        },
        {
            "cell_type": "code",
            "execution_count": 5,
            "metadata": {},
            "outputs": [],
            "source": [
                "pdf_paths = list(Path(DATASET_DIR).rglob(\"DATA*.pdf\"))\n",
                "pdf_paths = sorted([str(pdf_path) for pdf_path in pdf_paths])"
            ]
        },
        {
            "cell_type": "code",
            "execution_count": 6,
            "metadata": {},
            "outputs": [
                {
                    "name": "stdout",
                    "output_type": "stream",
                    "text": [
                        "Processing dataset/DATA1. KT420(L) - 조작설명서 (MITSUBISH)_17 0420 - 완료.pdf with zerox...\n"
                    ]
                },
                {
                    "name": "stderr",
                    "output_type": "stream",
                    "text": [
                        "/Users/kyuyeon/opt/miniconda3/envs/msbs/lib/python3.11/site-packages/pyzerox/models/modellitellm.py:52: UserWarning: \n",
                        "    Custom system prompt was provided which overrides the default system prompt. We assume that you know what you are doing.  \n",
                        "    . Default prompt for zerox is:\n",
                        " \n",
                        "    Convert the following PDF page to markdown.\n",
                        "    Return only the markdown with no explanation text.\n",
                        "    Do not exclude any content from the page.\n",
                        "    \n",
                        "  warnings.warn(f\"{Messages.CUSTOM_SYSTEM_PROMPT_WARNING}. Default prompt for zerox is:\\n {DEFAULT_SYSTEM_PROMPT}\")\n"
                    ]
                },
                {
                    "name": "stdout",
                    "output_type": "stream",
                    "text": [
                        "Processing dataset/DATA2. e-F@ctory Model Line_Robot-Vision간 모델링 및 캘리브레이션 방법.pdf with zerox...\n",
                        "Processing dataset/DATA3. AMR 접속방법.pdf with zerox...\n",
                        "Processing dataset/DATA4. AMR 스캐너 에러 조치.pdf with zerox...\n",
                        "Processing dataset/DATA5. AMR 충전 실패 조치 방법.pdf with zerox...\n",
                        "Processing dataset/DATA6. 미쓰비시 e-Factory Model Line_메뉴얼_레이저_200319.pdf with zerox...\n",
                        "Processing dataset/DATA7. Trouble Shooting_200423.pdf with zerox...\n"
                    ]
                }
            ],
            "source": [
                "zerox_results = [zerox_parse(pdf_path) for pdf_path in pdf_paths]\n",
                "zerox_results_gathered = await asyncio.gather(*zerox_results)"
            ]
        },
        {
            "cell_type": "code",
            "execution_count": null,
            "metadata": {},
            "outputs": [],
            "source": [
                "pymu_results_gathered = [\n",
                "    pymupdf4llm.to_markdown(pdf_path, page_chunks=True, show_progress=False)\n",
                "    for pdf_path in pdf_paths\n",
                "]"
            ]
        },
        {
            "cell_type": "code",
            "execution_count": 8,
            "metadata": {},
            "outputs": [],
            "source": [
                "def get_splitter() -> MarkdownHeaderTextSplitter:\n",
                "    _target_headers = [\n",
                "        (\"#\", \"#\"),\n",
                "        (\"##\", \"##\"),\n",
                "        (\"###\", \"###\"),\n",
                "        (\"####\", \"####\"),\n",
                "        (\"#####\", \"#####\"),\n",
                "        (\"######\", \"######\"),\n",
                "    ]\n",
                "    return MarkdownHeaderTextSplitter(headers_to_split_on=_target_headers, strip_headers=False)\n",
                "\n",
                "\n",
                "def split_pages_into_document_bundles(result: list[dict] | ZeroxOutput) -> list[dict]:\n",
                "    # Result of pymupdf4llm\n",
                "    if isinstance(result, list):\n",
                "        spl = get_splitter()\n",
                "        doc_bundles = []\n",
                "        for page in result:\n",
                "            docs = spl.split_text(page[\"text\"])\n",
                "            for doc in docs:\n",
                "                doc_bundles.append(\n",
                "                    {\n",
                "                        \"file_name\": Path(page[\"metadata\"][\"file_path\"]).name,\n",
                "                        \"page_number\": page[\"metadata\"][\"page\"],\n",
                "                        \"document\": doc,\n",
                "                    }\n",
                "                )\n",
                "        print(f\"pymupdf4llm: {len(result)} pages split into {len(doc_bundles)} document bundles.\")\n",
                "    # Result of pyzerox (OCR)\n",
                "    elif isinstance(result, ZeroxOutput):\n",
                "        spl = get_splitter()\n",
                "        doc_bundles = []\n",
                "        for page in result.pages:\n",
                "            docs = spl.split_text(page.content)\n",
                "            for doc in docs:\n",
                "                doc_bundles.append(\n",
                "                    {\n",
                "                        \"file_name\": Path(result.file_name).name,\n",
                "                        \"page_number\": page.page,\n",
                "                        \"document\": doc,\n",
                "                    }\n",
                "                )\n",
                "        print(f\"pyzerox: {len(result.pages)} pages split into {len(doc_bundles)} document bundles.\")\n",
                "    else:\n",
                "        raise ValueError(\"The type of argument 'result' must be either a dict or ZeroxOutput.\")\n",
                "\n",
                "    return doc_bundles\n",
                "\n",
                "\n",
                "def prepend_info_to_documents(\n",
                "    document_bundles: list[dict],\n",
                "    prepend_file_name: bool = True,\n",
                "    prepend_metadata: bool = True,\n",
                ") -> list[Document]:\n",
                "    # Return only the document from document_bundles\n",
                "    if not prepend_file_name and not prepend_metadata:\n",
                "        return [doc[\"document\"] for doc in document_bundles]\n",
                "\n",
                "    doc_bundles_ = deepcopy(document_bundles)\n",
                "    if prepend_metadata:\n",
                "        for doc_bundle in doc_bundles_:\n",
                "            doc = doc_bundle[\"document\"]\n",
                "            for header, header_content in reversed(doc.metadata.items()):\n",
                "                if header_content not in doc.page_content:\n",
                "                    doc.page_content = f\"{header} {header_content}\\n{doc.page_content}\"\n",
                "    if prepend_file_name:\n",
                "        for doc_bundle in doc_bundles_:\n",
                "            doc = doc_bundle[\"document\"]\n",
                "            doc.page_content = (\n",
                "                f\"File name: '{doc_bundle['file_name']}'\\n\"\n",
                "                f\"Page number: {doc_bundle['page_number']}\\n\"\n",
                "                f\"{doc.page_content}\"\n",
                "            )\n",
                "    return [doc[\"document\"] for doc in doc_bundles_]"
            ]
        },
        {
            "cell_type": "code",
            "execution_count": 9,
            "metadata": {},
            "outputs": [
                {
                    "name": "stdout",
                    "output_type": "stream",
                    "text": [
                        "pyzerox: 54 pages split into 69 document bundles.\n",
                        "pymupdf4llm: 54 pages split into 91 document bundles.\n",
                        "pyzerox: 36 pages split into 46 document bundles.\n",
                        "pymupdf4llm: 36 pages split into 42 document bundles.\n",
                        "pyzerox: 2 pages split into 2 document bundles.\n",
                        "pymupdf4llm: 2 pages split into 4 document bundles.\n",
                        "pyzerox: 6 pages split into 13 document bundles.\n",
                        "pymupdf4llm: 6 pages split into 7 document bundles.\n",
                        "pyzerox: 6 pages split into 9 document bundles.\n",
                        "pymupdf4llm: 6 pages split into 6 document bundles.\n",
                        "pyzerox: 13 pages split into 17 document bundles.\n",
                        "pymupdf4llm: 13 pages split into 19 document bundles.\n",
                        "pyzerox: 1 pages split into 1 document bundles.\n",
                        "pymupdf4llm: 1 pages split into 1 document bundles.\n"
                    ]
                }
            ],
            "source": [
                "zerox_all_docs = []\n",
                "pymu_all_docs = []\n",
                "\n",
                "for zerox_result, pymu_result in zip(zerox_results_gathered, pymu_results_gathered):\n",
                "    zerox_docs = split_pages_into_document_bundles(zerox_result)\n",
                "    pymu_docs = split_pages_into_document_bundles(pymu_result)\n",
                "    zerox_docs_with_info = prepend_info_to_documents(zerox_docs)\n",
                "    pymu_docs_with_info = prepend_info_to_documents(pymu_docs)\n",
                "    zerox_all_docs += zerox_docs_with_info\n",
                "    pymu_all_docs += pymu_docs_with_info"
            ]
        },
        {
            "cell_type": "code",
            "execution_count": 10,
            "metadata": {},
            "outputs": [],
            "source": [
                "embeddings = OpenAIEmbeddings(model=EMBEDDING_MODEL)\n",
                "\n",
                "vector_store_txt = FAISS.from_documents(\n",
                "    documents=pymu_all_docs,\n",
                "    embedding=embeddings,\n",
                ")\n",
                "vector_store_ocr = FAISS.from_documents(\n",
                "    documents=zerox_all_docs,\n",
                "    embedding=embeddings,\n",
                ")"
            ]
        },
        {
            "cell_type": "code",
            "execution_count": 11,
            "metadata": {},
            "outputs": [],
            "source": [
                "RETRIEVE_K = 8\n",
                "\n",
                "retriever_txt = vector_store_txt.as_retriever(search_kwargs={\"k\": RETRIEVE_K})\n",
                "retriever_ocr = vector_store_ocr.as_retriever(search_kwargs={\"k\": RETRIEVE_K})"
            ]
        },
        {
            "cell_type": "code",
            "execution_count": 12,
            "metadata": {},
            "outputs": [
                {
                    "name": "stdout",
                    "output_type": "stream",
                    "text": [
                        "File name: 'DATA2. e-F@ctory Model Line_Robot-Vision간 모델링 및 캘리브레이션 방법.pdf'\n",
                        "Page number: 4\n",
                        "# 1. Robot – Vision 간 캘리브레이션  \n",
                        "캘리브레이션이란? 카메라 화면 상의 물체 위치정보 변화를량과 로봇의 실제 이동 거리간의 상관관계를 정의하고, 카메라 화면 상에서 1픽셀의 차이가 실제 로봇에서는 얼마나 움직여야 하는지 정의한다.  \n",
                        "![Camera and Robot](image)  \n",
                        "※ 카메라 화면 상에서 1픽셀 (1cm=37.8px, 1px=0.026cm)  \n",
                        "≠  \n",
                        "※ 로봇이 실제로 움직인 거리  \n",
                        "캘리브레이션: 카메라 화면에서 보이는 1픽셀과 실제 로봇이 움직인 거리를 맞추는 작업  \n",
                        "→ 로봇으로 P1에서 P2로 1.04mm를 움직였지만, Vision상에서는 0.78mm를 움직인걸로 차이가 발생한다.  \n",
                        "© Mitsubishi Electric Corporation  \n",
                        "Field Engineering Group\n"
                    ]
                }
            ],
            "source": [
                "result = retriever_ocr.invoke(\n",
                "    \"로봇과 비전간의 캘리브레이션을 어떻게 하는지 알려줘 그리고 캘리브레이션이 무엇인지도 설명해줘\"\n",
                ")\n",
                "for d in result:\n",
                "    print(d.page_content)\n",
                "    break"
            ]
        },
        {
            "cell_type": "code",
            "execution_count": 13,
            "metadata": {},
            "outputs": [],
            "source": [
                "prompt_text = \"\"\"\n",
                "    You are an assistant for answering questions based on equipment manuals.\n",
                "    Use the following retrieved context to answer the question.\n",
                "    If the answer is unclear, try to deduce it from the provided contexts, or state that you don't know.\n",
                "    Avoid using the context if it appears irrelevant or deteriorated.\n",
                "    Provide your answer in Korean and format it as Markdown if applicable.\n",
                "    If you are unsure about the context, you can ask for the file name to refer to.\n",
                "\n",
                "    ## Context 1:\n",
                "    {context_ocr}\n",
                "\n",
                "    ## Context_2:\n",
                "    {context_txt}\n",
                "\n",
                "    ## Question:\n",
                "    {question}\n",
                "\n",
                "    ## Answer:\n",
                "\"\"\"\n",
                "prompt = PromptTemplate.from_template(strip_prompt(prompt_text))"
            ]
        },
        {
            "cell_type": "code",
            "execution_count": 14,
            "metadata": {},
            "outputs": [],
            "source": [
                "llm = ChatOpenAI(model_name=MODEL_NAME, temperature=0.1)"
            ]
        },
        {
            "cell_type": "code",
            "execution_count": 15,
            "metadata": {},
            "outputs": [],
            "source": [
                "chain = (\n",
                "    {\n",
                "        \"context_ocr\": retriever_ocr,\n",
                "        \"context_txt\": retriever_txt,\n",
                "        \"question\": RunnablePassthrough(),\n",
                "    }\n",
                "    | prompt\n",
                "    | llm\n",
                "    | StrOutputParser()\n",
                ")"
            ]
        },
        {
            "cell_type": "code",
            "execution_count": 16,
            "metadata": {},
            "outputs": [
                {
                    "name": "stdout",
                    "output_type": "stream",
                    "text": [
                        "가공기의 공구길이를 보정하는 방법은 다음과 같습니다:\n",
                        "\n",
                        "1. 측정하고자 하는 공구를 선택합니다.\n",
                        "2. 수동모드(HANDLE)를 선택하고 Z축을 내려 기준 블록(또는 셋탑바)에 접촉시킵니다.\n",
                        "3. 아래의 방법으로 공구 길이를 계산한 후 그 값을 공구의 옵셋값 길이에 입력합니다.\n",
                        "   - A: 기계 원점으로부터 테이블 상면까지의 거리\n",
                        "   - B: 접촉 시 Z축 기계 좌표치\n",
                        "   - C: 공구 길이\n",
                        "   - D: 기준블럭 길이\n",
                        "   - 공구길이 (C) = A - B - D\n",
                        "4. 측정 완료 후 Z축은 원점복귀 합니다.\n",
                        "\n",
                        "이 방법은 'DATA1. KT420(L) - 조작설명서 (MITSUBISH)_17 0420 - 완료.pdf' 문서의 38페이지를 참고하였습니다.\n"
                    ]
                }
            ],
            "source": [
                "question = \"가공기의 공구길이를 보정하는 방법을 알려줘, 무슨 문서의 몇 페이지를 참고했는지 알려줘.\"\n",
                "response = chain.invoke(question)\n",
                "print(response)"
            ]
        },
        {
            "cell_type": "code",
            "execution_count": 17,
            "metadata": {},
            "outputs": [
                {
                    "name": "stdout",
                    "output_type": "stream",
                    "text": [
                        "가공기 내외부 구성 요소는 다음과 같습니다:\n",
                        "\n",
                        "- **외형도**: ELE BOX, TOWER LAMP, OIL PUMP, OPERATION PANEL, COOLANT TANK, FRONT DOOR\n",
                        "- **내부 구조 및 축 방향**: MAGAZINE, COLUMN, HEAD, TABLE, SADDLE, BED\n",
                        "\n",
                        "이 정보는 'DATA1. KT420(L) - 조작설명서 (MITSUBISH)_17 0420 - 완료.pdf' 문서의 7페이지와 8페이지를 참고하였습니다.\n"
                    ]
                }
            ],
            "source": [
                "# 그림을 보고 답해야하는 질문\n",
                "question = \"가공기 내외부 구성 요소를 알려줘, 무슨 문서의 몇 페이지를 참고했는지 알려줘.\"\n",
                "response = chain.invoke(question)\n",
                "print(response)"
            ]
        },
        {
            "cell_type": "code",
            "execution_count": 18,
            "metadata": {},
            "outputs": [
                {
                    "name": "stdout",
                    "output_type": "stream",
                    "text": [
                        "캘리브레이션이란 카메라 화면 상의 물체 위치정보 변화량과 로봇의 실제 이동 거리 간의 상관관계를 정의하고, 카메라 화면 상에서 1픽셀의 차이가 실제 로봇에서는 얼마나 움직여야 하는지를 정의하는 작업입니다. 이 과정은 카메라 화면에서 보이는 1픽셀과 실제 로봇이 움직인 거리를 맞추는 작업으로, 예를 들어 로봇이 P1에서 P2로 1.04mm를 움직였지만, Vision상에서는 0.78mm를 움직인 것으로 차이가 발생할 수 있습니다.\n",
                        "\n",
                        "이 설명은 'DATA2. e-F@ctory Model Line_Robot-Vision간 모델링 및 캘리브레이션 방법.pdf' 문서의 4페이지를 참고하였습니다.\n"
                    ]
                }
            ],
            "source": [
                "question = \"캘리브레이션이 무엇인지도 설명해줘. 무슨 문서의 몇 페이지를 참고했는지 알려줘.\"\n",
                "response = chain.invoke(question)\n",
                "print(response)"
            ]
        },
        {
            "cell_type": "code",
            "execution_count": 19,
            "metadata": {},
            "outputs": [
                {
                    "name": "stdout",
                    "output_type": "stream",
                    "text": [
                        "로봇과 비전 간의 캘리브레이션은 다음과 같은 절차로 진행됩니다:\n",
                        "\n",
                        "1. **수평 및 높이 조정**: 먼저, Vision과 대상물(컨베이어) 간의 높이 및 수평을 맞춥니다. 수평자는 기울기를 맞추는 데 사용되며, 높이는 350mm로 설정합니다. (출처: 페이지 5)\n",
                        "\n",
                        "2. **캘리브레이션 정의**: 카메라 화면 상의 물체 위치 정보 변화량과 로봇의 실제 이동 거리 간의 상관관계를 정의합니다. 카메라 화면에서 1픽셀의 차이가 실제 로봇에서는 얼마나 움직여야 하는지를 정의합니다. (출처: 페이지 4)\n",
                        "\n",
                        "3. **캘리브레이션 데이터 생성 및 적용**: 캘리브레이션은 1개의 모델에서 1회만 진행하여 데이터를 생성하고, 해당 데이터를 다른 모델에 복사/붙여넣기 하여 사용합니다. (출처: 페이지 19)\n",
                        "\n",
                        "4. **로봇 이동량 기입**: World Coordinate에 로봇의 이동량을 기입합니다. 예를 들어, P2는 P1 기준으로 X가 50만큼, P3는 P1 기준으로 Y가 50만큼 이동합니다. (출처: 페이지 16)\n",
                        "\n",
                        "이 절차는 'DATA2. e-F@ctory Model Line_Robot-Vision간 모델링 및 캘리브레이션 방법.pdf' 문서의 페이지 4, 5, 16, 19를 참고하였습니다.\n"
                    ]
                }
            ],
            "source": [
                "question = \"로봇과 비전간의 캘리브레이션을 어떻게 하는지 알려줘. 무슨 문서의 몇 페이지를 참고했는지 알려줘.\"\n",
                "response = chain.invoke(question)\n",
                "print(response)"
            ]
        },
        {
            "cell_type": "code",
            "execution_count": 20,
            "metadata": {},
            "outputs": [
                {
                    "name": "stdout",
                    "output_type": "stream",
                    "text": [
                        "AMR 접속이 끊겼을 때 IP주소 확인과 재할당 방법은 다음과 같습니다:\n",
                        "\n",
                        "### IP주소 확인 방법\n",
                        "1. AGV 독립 wifi에 접속합니다.\n",
                        "2. `mir.com`에 접속합니다.\n",
                        "3. ID는 `admin`을 사용하고, 비밀번호는 입력하지 않습니다.\n",
                        "4. 메뉴에서 `System` -> `System` -> `wifi 설정`으로 이동합니다.\n",
                        "\n",
                        "### IP주소 재할당 방법\n",
                        "- IP 대역대가 `10.100.xxx.n`이 아니라면, Disconnect 후 Connect를 통해 `10.100.xxx.n`으로 자동 할당됩니다.\n",
                        "\n",
                        "이 정보는 'DATA3. AMR 접속방법.pdf' 문서의 1페이지를 참고하였습니다.\n"
                    ]
                }
            ],
            "source": [
                "question = \"AMR 접속이 끊겼을때, IP주소 확인과 재할당 방법에 대해서 알려줘. 무슨 문서의 몇 페이지를 참고했는지 알려줘.\"\n",
                "response = chain.invoke(question)\n",
                "print(response)"
            ]
        },
        {
            "cell_type": "code",
            "execution_count": 21,
            "metadata": {},
            "outputs": [
                {
                    "name": "stdout",
                    "output_type": "stream",
                    "text": [
                        "AMR 이동은 가능하지만 도킹 포지션에서 도킹이 안 되는 경우, 다음의 해결 방법을 참고하세요:\n",
                        "\n",
                        "1. AMR 하단 전원버튼을 통해 재부팅을 진행합니다.\n",
                        "2. 에러가 반복될 경우, Laser Scanner 접촉 불량을 의심하고 Scanner USB를 재접속합니다.\n",
                        "3. AMR 미니PC를 확인하기 위해 후면부 커버를 분리합니다.\n",
                        "4. PC의 USB 케이블 접속 상태를 확인하고 재장착합니다.\n",
                        "\n",
                        "이 정보는 'DATA4. AMR 스캐너 에러 조치.pdf' 문서의 3페이지를 참고했습니다.\n"
                    ]
                }
            ],
            "source": [
                "question = \"AMR 이동은 가능한데, 도킹 포지션에서 도킹일 안될 경우 해결 방법을 알려줘. 무슨 문서의 몇 페이지를 참고했는지 알려줘.\"\n",
                "response = chain.invoke(question)\n",
                "print(response)"
            ]
        },
        {
            "cell_type": "code",
            "execution_count": 22,
            "metadata": {},
            "outputs": [
                {
                    "name": "stdout",
                    "output_type": "stream",
                    "text": [
                        "AMR이 충전기 도킹에 성공했지만 충전에 실패한 경우, 다음과 같은 조치 방법을 따르세요:\n",
                        "\n",
                        "1. AMR을 충전기 20cm 내에 방향을 맞춰 배치합니다.\n",
                        "2. AMR 설정 웹페이지에 접속합니다.\n",
                        "3. AMR의 충전기를 클릭합니다.\n",
                        "4. Edit를 클릭하고, 5번 실행 전 값을 확인하기 위해 사진을 찍어둡니다.\n",
                        "5. Detect market를 클릭하여 AMR의 충전기 위치를 재조정합니다.\n",
                        "\n",
                        "이 정보는 'DATA5. AMR 충전 실패 조치 방법.pdf' 문서의 2페이지와 3페이지를 참고했습니다.\n"
                    ]
                }
            ],
            "source": [
                "question = \"AMR이 충전기 도킹이 되었는데, 충전에 실패할 경우 어떻게 해결하는지 알려줘. 무슨 문서의 몇 페이지를 참고했는지 알려줘.\"\n",
                "response = chain.invoke(question)\n",
                "print(response)"
            ]
        },
        {
            "cell_type": "code",
            "execution_count": 23,
            "metadata": {},
            "outputs": [
                {
                    "name": "stdout",
                    "output_type": "stream",
                    "text": [
                        "정면 도어열림 알람이 발생했을 때 해결 방법은 다음과 같습니다:\n",
                        "\n",
                        "1. 에어가 공급되지 않아 도어가 열리지 않는 경우 에어 공급을 확인합니다.\n",
                        "2. 에어 스피드 컨트롤러가 너무 조여서 실린더를 동작시킬 수 없거나 현저히 느리게 동작하는지 확인합니다. (일정 시간이 경과할 경우 타임오버로 알람이 발생합니다.)\n",
                        "3. 에어 공급용 솔레노이드 밸브의 정상 동작을 확인합니다.\n",
                        "4. 도어 열림 확인용 실린더 센서 2포인트가 정상 동작하는지 확인합니다.\n",
                        "\n",
                        "이 정보는 'DATA6. 미쓰비시 e-Factory Model Line_메뉴얼_레이저_200319.pdf' 문서의 11페이지를 참고하였습니다.\n"
                    ]
                }
            ],
            "source": [
                "question = \"레이저 장비에 정면 도어열림 알람이 발생했을때, 어떻게 해결하는지 알려줘. 무슨 문서의 몇 페이지를 참고했는지 알려줘.\"\n",
                "response = chain.invoke(question)\n",
                "print(response)"
            ]
        },
        {
            "cell_type": "code",
            "execution_count": 24,
            "metadata": {},
            "outputs": [
                {
                    "name": "stdout",
                    "output_type": "stream",
                    "text": [
                        "정면 도어닫힘 알람이 발생했을 때 해결 방법은 다음과 같습니다:\n",
                        "\n",
                        "1. 에어가 공급되지 않아 도어가 닫히지 않는 경우 에어 공급을 확인합니다.\n",
                        "2. 에어 스피드 컨트롤러가 너무 조여서 실린더를 동작시킬 수 없거나 현저히 느리게 동작하는지 확인합니다. (일정 시간이 경과할 경우 타임오버로 알람이 발생합니다.)\n",
                        "3. 에어 공급용 솔레노이드 밸브의 정상 동작을 확인합니다.\n",
                        "4. 도어 열림 확인용 실린더 센서 2포인트가 정상 동작하는지 확인합니다.\n",
                        "\n",
                        "이 정보는 'DATA6. 미쓰비시 e-Factory Model Line_메뉴얼_레이저_200319.pdf' 문서의 11페이지를 참고하였습니다.\n"
                    ]
                }
            ],
            "source": [
                "question = \"레이저 장비에 정면 도어닫힘 알람이 발생했을때, 어떻게 해결하는지 알려줘. 무슨 문서의 몇 페이지를 참고했는지 알려줘.\"\n",
                "response = chain.invoke(question)\n",
                "print(response)"
            ]
        },
        {
            "cell_type": "code",
            "execution_count": 25,
            "metadata": {},
            "outputs": [
                {
                    "name": "stdout",
                    "output_type": "stream",
                    "text": [
                        "컷팅 클램프 ON 알람이 발생했을 때의 해결 방법은 다음과 같습니다:\n",
                        "\n",
                        "1. 워크가 공급되지 않거나 위치 이상으로 실린더의 마그네트 센서가 감지 불량이 아닌지 확인합니다.\n",
                        "2. 에어가 공급되지 않아 클램프가 동작되지 않는 경우 에어 공급을 확인합니다.\n",
                        "3. 에어 스피드 컨트롤러가 너무 조여서 실린더를 동작시킬 수 없거나 현저히 느리게 동작하는지 확인합니다. (일정 시간이 경과할 경우 타임오버로 알람이 발생합니다.)\n",
                        "4. 에어 공급용 솔레노이드 밸브의 정상 동작을 확인합니다.\n",
                        "5. 컷팅 클램프 확인용 실린더 센서 2포인트가 정상 동작하는지 확인합니다.\n",
                        "\n",
                        "이 정보는 'DATA6. 미쓰비시 e-Factory Model Line_메뉴얼_레이저_200319.pdf' 문서의 11페이지와 12페이지를 참고하였습니다.\n"
                    ]
                }
            ],
            "source": [
                "question = \"레이저 장비에 컷팅 클램프 ON 알람이 발생했을때, 어떻게 해결하는지 알려줘. 무슨 문서의 몇 페이지를 참고했는지 알려줘.\"\n",
                "response = chain.invoke(question)\n",
                "print(response)"
            ]
        },
        {
            "cell_type": "code",
            "execution_count": 26,
            "metadata": {},
            "outputs": [
                {
                    "name": "stdout",
                    "output_type": "stream",
                    "text": [
                        "기계 크기는 다음과 같습니다:\n",
                        "\n",
                        "- KT420: 기계 높이 2655mm, 소요 바닥 면적 1760mm x 2520mm\n",
                        "- KT420L: 기계 높이 2655mm, 소요 바닥 면적 2064mm x 2520mm\n"
                    ]
                }
            ],
            "source": [
                "# 좀 막연한 질문이 들어온 경우\n",
                "question = \"기계 크기는?\"\n",
                "response = chain.invoke(question)\n",
                "print(response)"
            ]
        },
        {
            "cell_type": "code",
            "execution_count": 37,
            "metadata": {},
            "outputs": [
                {
                    "name": "stdout",
                    "output_type": "stream",
                    "text": [
                        "가공기의 소요 동력에 대한 세부 사항은 다음과 같습니다:\n",
                        "\n",
                        "- **전원**: 220V±10%\n",
                        "- **정격 전원 용량**: 15.6 kVA\n",
                        "- **공압**: 5 kg/㎠ 이상\n",
                        "\n",
                        "이 정보는 'DATA1. KT420(L) - 조작설명서 (MITSUBISH)_17 0420 - 완료.pdf' 파일의 5페이지에 기재되어 있습니다.\n"
                    ]
                }
            ],
            "source": [
                "# 세부 사항에 대한 질문이 들어온 경우\n",
                "question = \"가공기 소요 동력을 세부적으로 설명해줘\"\n",
                "response = chain.invoke(question)\n",
                "print(response)"
            ]
        },
        {
            "cell_type": "code",
            "execution_count": 28,
            "metadata": {},
            "outputs": [
                {
                    "name": "stdout",
                    "output_type": "stream",
                    "text": [
                        "마킹 클램프 ON 알람이 발생했을 때 해결 방법은 다음과 같습니다:\n",
                        "\n",
                        "1. 워크가 공급되지 않거나 위치 이상으로 실린더의 마그네트 센서가 감지 불량이 아닌지 확인합니다.\n",
                        "2. 에어가 공급되지 않아 클램프가 동작되지 않는 경우 에어 공급을 확인합니다.\n",
                        "3. 에어 스피드 컨트롤러가 너무 조여서 실린더를 동작시킬 수 없거나 현저히 느리게 동작하는지 확인합니다. (일정 시간이 경과할 경우 타임오버로 알람이 발생합니다.)\n",
                        "4. 에어 공급용 솔레노이드 밸브의 정상 동작을 확인합니다.\n",
                        "5. 컷팅 클램프 확인용 실린더 센서 2포인트가 정상 동작하는지 확인합니다.\n",
                        "\n",
                        "이 정보는 'DATA6. 미쓰비시 e-Factory Model Line_메뉴얼_레이저_200319.pdf' 문서의 12페이지를 참고했습니다.\n"
                    ]
                }
            ],
            "source": [
                "question = \"레이저 장비에 마킹 클램프 ON 알람이 발생했을때, 어떻게 해결하는지 알려줘. 무슨 문서의 몇 페이지를 참고했는지 알려줘.\"\n",
                "response = chain.invoke(question)\n",
                "print(response)"
            ]
        },
        {
            "cell_type": "code",
            "execution_count": 29,
            "metadata": {},
            "outputs": [
                {
                    "name": "stdout",
                    "output_type": "stream",
                    "text": [
                        "레이저 장비에 MOS전진 알람이 발생했을 때 해결 방법은 다음과 같습니다:\n",
                        "\n",
                        "1. 에어가 공급되지 않아 클램프가 동작되지 않는 경우 에어 공급을 확인합니다.\n",
                        "2. 에어 스피드 컨트롤러가 너무 조여서 실린더를 동작시킬 수 없거나 현저히 느리게 동작하는지 확인합니다. (일정 시간이 경과할 경우 타임오버로 알람이 발생합니다.)\n",
                        "3. 에어 공급용 솔레노이드 밸브의 정상 동작을 확인합니다.\n",
                        "4. 동작 확인용 실린더 센서가 정상 동작하는지 확인합니다.\n",
                        "\n",
                        "이 정보는 'DATA6. 미쓰비시 e-Factory Model Line_메뉴얼_레이저_200319.pdf' 문서의 12페이지를 참고하였습니다.\n"
                    ]
                }
            ],
            "source": [
                "question = \"레이저 장비에 MOS전진 알람이 발생했을때, 어떻게 해결하는지 알려줘. 무슨 문서의 몇 페이지를 참고했는지 알려줘.\"\n",
                "response = chain.invoke(question)\n",
                "print(response)"
            ]
        },
        {
            "cell_type": "code",
            "execution_count": 30,
            "metadata": {},
            "outputs": [
                {
                    "name": "stdout",
                    "output_type": "stream",
                    "text": [
                        "마킹 데이터 오류 알람이 발생했을 때는 OPC UA로부터 반복해서 읽어온 마킹 데이터가 2회 이상 상이할 경우 발생합니다. 이 경우에는 제작사에 문의하는 것이 권장됩니다. 이 정보는 'DATA6. 미쓰비시 e-Factory Model Line_메뉴얼_레이저_200319.pdf' 문서의 13페이지를 참고하였습니다.\n"
                    ]
                }
            ],
            "source": [
                "question = \"레이저 장비에 마킹 데이터 오류 알람이 발생했을때, 어떻게 해결하는지 알려줘. 무슨 문서의 몇 페이지를 참고했는지 알려줘.\"\n",
                "response = chain.invoke(question)\n",
                "print(response)"
            ]
        },
        {
            "cell_type": "code",
            "execution_count": 31,
            "metadata": {},
            "outputs": [
                {
                    "name": "stdout",
                    "output_type": "stream",
                    "text": [
                        "레이저 장비에 측면 또는 후면 도어 열림 알람이 발생했을 때 해결 방법은 다음과 같습니다:\n",
                        "\n",
                        "- 원점복귀 또는 운전 중 측면 또는 후면 도어를 열 경우에 발생합니다.\n",
                        "- 도어 닫힘 감지용 센서가 이상 없는지 확인합니다.\n",
                        "\n",
                        "이 내용은 'DATA6. 미쓰비시 e-Factory Model Line_메뉴얼_레이저_200319.pdf' 문서의 13페이지를 참고하였습니다.\n"
                    ]
                }
            ],
            "source": [
                "question = \"레이저 장비에 측면 또는 후면 도어 열림 알람이 발생했을때, 어떻게 해결하는지 알려줘. 무슨 문서의 몇 페이지를 참고했는지 알려줘.\"\n",
                "response = chain.invoke(question)\n",
                "print(response)"
            ]
        },
        {
            "cell_type": "code",
            "execution_count": 32,
            "metadata": {},
            "outputs": [
                {
                    "name": "stdout",
                    "output_type": "stream",
                    "text": [
                        "포장기에서 Vision 인식이 제대로 되지 않을 경우, 다음과 같이 대처할 수 있습니다:\n",
                        "\n",
                        "1. GOT에서 Bypass 모드를 선택합니다.\n",
                        "2. 한 방향으로 15개씩 적재하여 재기동합니다. (봉투 투입구가 작업자 향하게)\n",
                        "3. 근본적인 조치는 비전 프로그램 검토가 필요하므로 HRC 대응 요청이 필요합니다.\n",
                        "\n",
                        "이 정보는 'DATA7. Trouble Shooting_200423.pdf' 문서의 1페이지를 참고하였습니다.\n"
                    ]
                }
            ],
            "source": [
                "question = \"포장기에서 Vision 인식이 제대로 되지 않을 경우 어떻게 대처하면 되는지 알려줘. 무슨 문서의 몇 페이지를 참고했는지 알려줘.\"\n",
                "response = chain.invoke(question)\n",
                "print(response)"
            ]
        },
        {
            "cell_type": "code",
            "execution_count": 38,
            "metadata": {},
            "outputs": [
                {
                    "name": "stdout",
                    "output_type": "stream",
                    "text": [
                        "레이저 장비에서 컷팅 시 덜 잘려진 조각이 생성될 경우, 다음과 같은 조치를 고려할 수 있습니다:\n",
                        "\n",
                        "1. **레이저 출력 확인**: 컷팅 파라미터 설정에서 레이저 출력(Laser Power)을 확인하고, 필요에 따라 출력을 조정합니다. 레이저 출력이 충분하지 않으면 절단이 제대로 이루어지지 않을 수 있습니다.\n",
                        "\n",
                        "2. **이동 속도 조정**: 컷팅 구간에서의 이동 속도(Speed)를 확인하고, 필요에 따라 속도를 조정합니다. 이동 속도가 너무 빠르면 절단이 덜 될 수 있습니다.\n",
                        "\n",
                        "3. **컷팅 경로 확인**: 컷팅이 시작되는 X, Y 좌표(Start X, Start Y)와 잘라낼 아크릴 워크의 크기(Size X, Size Y)를 확인하여 설정이 정확한지 확인합니다.\n",
                        "\n",
                        "4. **추가 이동 거리 설정**: 모서리의 확실한 절단을 위해 Extra 설정을 확인하고, 필요에 따라 조정합니다. 이 설정은 실제 아크릴 사이즈보다 약간 이동하는 거리입니다.\n",
                        "\n",
                        "5. **장비 점검**: 장비의 상태를 점검하여 레이저의 초점이 맞는지, 장비에 이상이 없는지 확인합니다.\n",
                        "\n",
                        "이러한 조치를 통해 덜 잘려진 조각 문제를 해결할 수 있습니다. 추가적인 문제가 지속될 경우, 장비 제조사에 문의하는 것이 좋습니다.\n"
                    ]
                }
            ],
            "source": [
                "question = \"레이저 장비에서 컷팅 시 덜 잘려진 조각이 생성되면 어떻게 해야하나요?\"\n",
                "response = chain.invoke(question)\n",
                "print(response)"
            ]
        },
        {
            "cell_type": "code",
            "execution_count": 36,
            "metadata": {},
            "outputs": [
                {
                    "name": "stdout",
                    "output_type": "stream",
                    "text": [
                        "레이저 장비에서 컷팅 시 덜 잘려진 조각이 생성될 경우, 다음과 같은 조치를 취할 수 있습니다:\n",
                        "\n",
                        "1. 컷팅쪽 경통을 풀어, 반사판의 그을음을 닦아줍니다.\n",
                        "2. 수동으로 레이저를 ON 시켜 초점이 한 가운데에 생성되는지 확인합니다.\n",
                        "3. 재조립을 진행합니다.\n",
                        "\n",
                        "이러한 조치를 통해 문제를 해결할 수 있습니다.\n"
                    ]
                }
            ],
            "source": [
                "question = \"레이저 장비에서 컷팅 시 덜 잘려진 조각이 생성되면 어떻게 해야하나요?  트러블슈팅 가이드를 참고해주세요.\"\n",
                "response = chain.invoke(question)\n",
                "print(response)"
            ]
        },
        {
            "cell_type": "code",
            "execution_count": 34,
            "metadata": {},
            "outputs": [
                {
                    "name": "stdout",
                    "output_type": "stream",
                    "text": [
                        "NC 장비에서 안착 불량 에러가 발생했을 때의 대처 방법은 다음과 같습니다:\n",
                        "\n",
                        "1. NC 가공기의 도어를 열고 Unclamp 하여 아크릴을 정위치에 놓습니다.\n",
                        "2. NC 가공기의 \"Cycle Start\" 버튼을 눌러서 재시작합니다.\n",
                        "3. NC GOT에서 자동 재기동 버튼을 눌러줍니다.\n",
                        "\n",
                        "이 방법을 통해 안착 불량 문제를 해결할 수 있습니다.\n"
                    ]
                }
            ],
            "source": [
                "question = \"NC장비에서 안착 불량 에러시 대처?\"\n",
                "response = chain.invoke(question)\n",
                "print(response)"
            ]
        },
        {
            "cell_type": "code",
            "execution_count": 45,
            "metadata": {},
            "outputs": [],
            "source": [
                "# Save FAISS result\n",
                "FAISS_SAVE_DIR = \"faiss/\"\n",
                "\n",
                "vector_store_txt.save_local(FAISS_SAVE_DIR, index_name=\"demo_rag_txt\")\n",
                "vector_store_ocr.save_local(FAISS_SAVE_DIR, index_name=\"demo_rag_ocr\")"
            ]
        },
        {
            "cell_type": "code",
            "execution_count": 46,
            "metadata": {},
            "outputs": [],
            "source": [
                "# Load test\n",
                "faiss_txt_loaded = FAISS.load_local(\n",
                "    FAISS_SAVE_DIR,\n",
                "    embeddings=OpenAIEmbeddings(model=EMBEDDING_MODEL),\n",
                "    index_name=\"demo_rag_txt\",\n",
                "    allow_dangerous_deserialization=True,\n",
                ")\n",
                "faiss_ocr_loaded = FAISS.load_local(\n",
                "    FAISS_SAVE_DIR,\n",
                "    embeddings=OpenAIEmbeddings(model=EMBEDDING_MODEL),\n",
                "    index_name=\"demo_rag_ocr\",\n",
                "    allow_dangerous_deserialization=True,\n",
                ")\n",
                "retriever_txt_loaded = faiss_txt_loaded.as_retriever(search_kwargs={\"k\": RETRIEVE_K})\n",
                "retriever_ocr_loaded = faiss_ocr_loaded.as_retriever(search_kwargs={\"k\": RETRIEVE_K})"
            ]
        }
    ],
    "metadata": {
        "kernelspec": {
            "display_name": "msbs",
            "language": "python",
            "name": "python3"
        },
        "language_info": {
            "codemirror_mode": {
                "name": "ipython",
                "version": 3
            },
            "file_extension": ".py",
            "mimetype": "text/x-python",
            "name": "python",
            "nbconvert_exporter": "python",
            "pygments_lexer": "ipython3",
            "version": "3.11.11"
        }
    },
    "nbformat": 4,
    "nbformat_minor": 2
}
